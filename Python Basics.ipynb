{
 "cells": [
  {
   "cell_type": "code",
   "execution_count": 2,
   "metadata": {},
   "outputs": [],
   "source": [
    "Drogba_Goals=20\n",
    "Drogba_Shots=25"
   ]
  },
  {
   "cell_type": "code",
   "execution_count": 3,
   "metadata": {
    "scrolled": true
   },
   "outputs": [
    {
     "data": {
      "text/plain": [
       "0.8"
      ]
     },
     "execution_count": 3,
     "metadata": {},
     "output_type": "execute_result"
    }
   ],
   "source": [
    "Drogba_Conversion=Drogba_Goals/Drogba_Shots\n",
    "Drogba_Conversion"
   ]
  },
  {
   "cell_type": "code",
   "execution_count": 4,
   "metadata": {
    "scrolled": true
   },
   "outputs": [
    {
     "data": {
      "text/plain": [
       "'Drogba is one of the all time great Chelsea players, his conversion rate speaks for itself.'"
      ]
     },
     "execution_count": 4,
     "metadata": {},
     "output_type": "execute_result"
    }
   ],
   "source": [
    "\"Drogba is one of the all time great Chelsea players, his conversion rate speaks for itself.\""
   ]
  },
  {
   "cell_type": "code",
   "execution_count": 5,
   "metadata": {
    "scrolled": true
   },
   "outputs": [
    {
     "name": "stdout",
     "output_type": "stream",
     "text": [
      "His converstion rate of 0.8 is sublime\n"
     ]
    }
   ],
   "source": [
    "print(\"His converstion rate of \" + str(Drogba_Conversion) + \" is sublime\")"
   ]
  },
  {
   "cell_type": "code",
   "execution_count": 6,
   "metadata": {},
   "outputs": [
    {
     "data": {
      "text/plain": [
       "False"
      ]
     },
     "execution_count": 6,
     "metadata": {},
     "output_type": "execute_result"
    }
   ],
   "source": [
    "# Is four less than three?\n",
    "\n",
    "4 < 3"
   ]
  },
  {
   "cell_type": "code",
   "execution_count": 7,
   "metadata": {
    "scrolled": true
   },
   "outputs": [
    {
     "data": {
      "text/plain": [
       "True"
      ]
     },
     "execution_count": 7,
     "metadata": {},
     "output_type": "execute_result"
    }
   ],
   "source": [
    "# Is 20 less than or equal to 21?\n",
    "\n",
    "20 <= 21"
   ]
  },
  {
   "cell_type": "code",
   "execution_count": 8,
   "metadata": {
    "scrolled": true
   },
   "outputs": [
    {
     "data": {
      "text/plain": [
       "True"
      ]
     },
     "execution_count": 8,
     "metadata": {},
     "output_type": "execute_result"
    }
   ],
   "source": [
    "# Does 44 equal 44?\n",
    "\n",
    "44 == 44"
   ]
  },
  {
   "cell_type": "code",
   "execution_count": 9,
   "metadata": {
    "scrolled": true
   },
   "outputs": [
    {
     "data": {
      "text/plain": [
       "True"
      ]
     },
     "execution_count": 9,
     "metadata": {},
     "output_type": "execute_result"
    }
   ],
   "source": [
    "# Our skill ranking system assigns two players a ranking, who is better?\n",
    "\n",
    "Hazard = 99\n",
    "Mata = 98\n",
    "\n",
    "Hazard > Mata"
   ]
  },
  {
   "cell_type": "code",
   "execution_count": 10,
   "metadata": {
    "scrolled": true
   },
   "outputs": [
    {
     "data": {
      "text/plain": [
       "True"
      ]
     },
     "execution_count": 10,
     "metadata": {},
     "output_type": "execute_result"
    }
   ],
   "source": [
    "# Check that Hazard is better AND that we can afford them?\n",
    "\n",
    "Budget = 3000000\n",
    "PlayerCost = 2500000\n",
    "\n",
    "(Hazard > Mata) and (Budget > PlayerCost)"
   ]
  },
  {
   "cell_type": "code",
   "execution_count": 11,
   "metadata": {},
   "outputs": [
    {
     "data": {
      "text/plain": [
       "True"
      ]
     },
     "execution_count": 11,
     "metadata": {},
     "output_type": "execute_result"
    }
   ],
   "source": [
    "LampardGoals = 9\n",
    "LampardAssists = 16\n",
    "\n",
    "(LampardGoals > 10) or (LampardAssists >= 15)"
   ]
  },
  {
   "cell_type": "code",
   "execution_count": 12,
   "metadata": {},
   "outputs": [
    {
     "data": {
      "text/plain": [
       "False"
      ]
     },
     "execution_count": 12,
     "metadata": {},
     "output_type": "execute_result"
    }
   ],
   "source": [
    "CostaGoals = 5\n",
    "CostaAssists = 10\n",
    "CostaRedCards = 3\n",
    "\n",
    "(CostaGoals > 5) or (CostaAssists>=5) and (CostaRedCards<3)"
   ]
  },
  {
   "cell_type": "code",
   "execution_count": 13,
   "metadata": {
    "scrolled": true
   },
   "outputs": [
    {
     "name": "stdout",
     "output_type": "stream",
     "text": [
      "Done!\n"
     ]
    }
   ],
   "source": [
    "if 11>10:\n",
    "    print (\"Done!\")"
   ]
  },
  {
   "cell_type": "code",
   "execution_count": 14,
   "metadata": {
    "scrolled": true
   },
   "outputs": [
    {
     "name": "stdout",
     "output_type": "stream",
     "text": [
      "That was false!\n"
     ]
    }
   ],
   "source": [
    "if 9>10:\n",
    "    print(\"Done!\")\n",
    "else:\n",
    "    print(\"That was false!\")"
   ]
  },
  {
   "cell_type": "code",
   "execution_count": 15,
   "metadata": {
    "scrolled": true
   },
   "outputs": [
    {
     "name": "stdout",
     "output_type": "stream",
     "text": [
      "Salmeen join the attack!\n"
     ]
    }
   ],
   "source": [
    "BahrainScore=0\n",
    "OpponentScore=1\n",
    "\n",
    "if BahrainScore<OpponentScore:\n",
    "    print(\"Salmeen join the attack!\")\n",
    "else:\n",
    "    print(\"Get back!\")"
   ]
  },
  {
   "cell_type": "code",
   "execution_count": 16,
   "metadata": {},
   "outputs": [
    {
     "name": "stdout",
     "output_type": "stream",
     "text": [
      "Kane join the attack!\n"
     ]
    }
   ],
   "source": [
    "TottenhamScore=0\n",
    "OpponentScore=1\n",
    "\n",
    "if TottenhamScore<OpponentScore:\n",
    "    print(\"Kane join the attack!\")\n",
    "elif TottenhamScore==OpponentScore:\n",
    "    print(\"Give the ball to Kane!\")\n",
    "else:\n",
    "    print(\"Kane get back!\")"
   ]
  },
  {
   "cell_type": "code",
   "execution_count": 17,
   "metadata": {},
   "outputs": [],
   "source": [
    "TeamA=(\"Ronaldo\",\"Ronaldinho\",\"Roberto Carlos\")"
   ]
  },
  {
   "cell_type": "code",
   "execution_count": 18,
   "metadata": {
    "scrolled": true
   },
   "outputs": [
    {
     "name": "stdout",
     "output_type": "stream",
     "text": [
      "Welcome to the cage, Ronaldo\n",
      "Welcome to the cage, Ronaldinho\n",
      "Welcome to the cage, Roberto Carlos\n"
     ]
    }
   ],
   "source": [
    "print(\"Welcome to the cage, \" +TeamA[0])\n",
    "print(\"Welcome to the cage, \" +TeamA[1])\n",
    "print(\"Welcome to the cage, \" +TeamA[2])"
   ]
  },
  {
   "cell_type": "code",
   "execution_count": 20,
   "metadata": {
    "scrolled": true
   },
   "outputs": [
    {
     "name": "stdout",
     "output_type": "stream",
     "text": [
      "Welcome to the cage, Ronaldo\n",
      "Welcome to the cage, Ronaldinho\n",
      "Welcome to the cage, Roberto Carlos\n"
     ]
    }
   ],
   "source": [
    "for player in TeamA:\n",
    "    print(\"Welcome to the cage, \" +player)"
   ]
  },
  {
   "cell_type": "code",
   "execution_count": 21,
   "metadata": {
    "scrolled": true
   },
   "outputs": [
    {
     "name": "stdout",
     "output_type": "stream",
     "text": [
      "Welcome to the cage, Ronaldo\n",
      "Welcome to the cage, Ronaldinho\n",
      "Welcome to the cage, Roberto Carlos\n",
      "Welcome to the cage, Henry\n",
      "Welcome to the cage, Zidane\n",
      "Welcome to the cage, Pires\n"
     ]
    }
   ],
   "source": [
    "#Team 2, enter!\n",
    "TeamB = [\"Henry\",\"Zidane\",\"Pires\"]\n",
    "\n",
    "#A list of lists!\n",
    "Teams = [TeamA,TeamB]\n",
    "\n",
    "for team in Teams:\n",
    "    for player in team:\n",
    "        print(\"Welcome to the cage, \" + player)"
   ]
  },
  {
   "cell_type": "code",
   "execution_count": 22,
   "metadata": {},
   "outputs": [
    {
     "name": "stdout",
     "output_type": "stream",
     "text": [
      "45 played, it is half-time!\n"
     ]
    }
   ],
   "source": [
    "watchMinutes=0\n",
    "while watchMinutes<45:\n",
    "    watchMinutes +=1\n",
    "    \n",
    "print(str(watchMinutes)+\" played, it is half-time!\")"
   ]
  },
  {
   "cell_type": "code",
   "execution_count": 23,
   "metadata": {},
   "outputs": [
    {
     "name": "stdout",
     "output_type": "stream",
     "text": [
      "8\n"
     ]
    },
    {
     "data": {
      "text/plain": [
       "1"
      ]
     },
     "execution_count": 23,
     "metadata": {},
     "output_type": "execute_result"
    }
   ],
   "source": [
    "import random\n",
    "\n",
    "keepPossession = True\n",
    "passSkill = 75\n",
    "passesComplete = 8\n",
    "\n",
    "while keepPossession == True:\n",
    "    \n",
    "    if random.randint(0,100) > passSkill:\n",
    "        keepPossession = False\n",
    "    else:\n",
    "        passesComplete += 1\n",
    "        \n",
    "print(passesComplete)\n",
    "\n",
    "1"
   ]
  }
 ],
 "metadata": {
  "kernelspec": {
   "display_name": "Python 3",
   "language": "python",
   "name": "python3"
  },
  "language_info": {
   "codemirror_mode": {
    "name": "ipython",
    "version": 3
   },
   "file_extension": ".py",
   "mimetype": "text/x-python",
   "name": "python",
   "nbconvert_exporter": "python",
   "pygments_lexer": "ipython3",
   "version": "3.7.6"
  }
 },
 "nbformat": 4,
 "nbformat_minor": 4
}
