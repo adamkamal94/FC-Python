{
 "cells": [
  {
   "cell_type": "code",
   "execution_count": 2,
   "metadata": {},
   "outputs": [],
   "source": [
    "Drogba_Goals=20\n",
    "Drogba_Shots=25"
   ]
  },
  {
   "cell_type": "code",
   "execution_count": 3,
   "metadata": {
    "scrolled": true
   },
   "outputs": [
    {
     "data": {
      "text/plain": [
       "0.8"
      ]
     },
     "execution_count": 3,
     "metadata": {},
     "output_type": "execute_result"
    }
   ],
   "source": [
    "Drogba_Conversion=Drogba_Goals/Drogba_Shots\n",
    "Drogba_Conversion"
   ]
  },
  {
   "cell_type": "code",
   "execution_count": 4,
   "metadata": {
    "scrolled": true
   },
   "outputs": [
    {
     "data": {
      "text/plain": [
       "'Drogba is one of the all time great Chelsea players, his conversion rate speaks for itself.'"
      ]
     },
     "execution_count": 4,
     "metadata": {},
     "output_type": "execute_result"
    }
   ],
   "source": [
    "\"Drogba is one of the all time great Chelsea players, his conversion rate speaks for itself.\""
   ]
  },
  {
   "cell_type": "code",
   "execution_count": 5,
   "metadata": {
    "scrolled": true
   },
   "outputs": [
    {
     "name": "stdout",
     "output_type": "stream",
     "text": [
      "His converstion rate of 0.8 is sublime\n"
     ]
    }
   ],
   "source": [
    "print(\"His converstion rate of \" + str(Drogba_Conversion) + \" is sublime\")"
   ]
  },
  {
   "cell_type": "code",
   "execution_count": 6,
   "metadata": {},
   "outputs": [
    {
     "data": {
      "text/plain": [
       "False"
      ]
     },
     "execution_count": 6,
     "metadata": {},
     "output_type": "execute_result"
    }
   ],
   "source": [
    "# Is four less than three?\n",
    "\n",
    "4 < 3"
   ]
  },
  {
   "cell_type": "code",
   "execution_count": 7,
   "metadata": {
    "scrolled": true
   },
   "outputs": [
    {
     "data": {
      "text/plain": [
       "True"
      ]
     },
     "execution_count": 7,
     "metadata": {},
     "output_type": "execute_result"
    }
   ],
   "source": [
    "# Is 20 less than or equal to 21?\n",
    "\n",
    "20 <= 21"
   ]
  },
  {
   "cell_type": "code",
   "execution_count": 8,
   "metadata": {
    "scrolled": true
   },
   "outputs": [
    {
     "data": {
      "text/plain": [
       "True"
      ]
     },
     "execution_count": 8,
     "metadata": {},
     "output_type": "execute_result"
    }
   ],
   "source": [
    "# Does 44 equal 44?\n",
    "\n",
    "44 == 44"
   ]
  },
  {
   "cell_type": "code",
   "execution_count": 9,
   "metadata": {
    "scrolled": true
   },
   "outputs": [
    {
     "data": {
      "text/plain": [
       "True"
      ]
     },
     "execution_count": 9,
     "metadata": {},
     "output_type": "execute_result"
    }
   ],
   "source": [
    "# Our skill ranking system assigns two players a ranking, who is better?\n",
    "\n",
    "Hazard = 99\n",
    "Mata = 98\n",
    "\n",
    "Hazard > Mata"
   ]
  },
  {
   "cell_type": "code",
   "execution_count": 10,
   "metadata": {
    "scrolled": true
   },
   "outputs": [
    {
     "data": {
      "text/plain": [
       "True"
      ]
     },
     "execution_count": 10,
     "metadata": {},
     "output_type": "execute_result"
    }
   ],
   "source": [
    "# Check that Hazard is better AND that we can afford them?\n",
    "\n",
    "Budget = 3000000\n",
    "PlayerCost = 2500000\n",
    "\n",
    "(Hazard > Mata) and (Budget > PlayerCost)"
   ]
  },
  {
   "cell_type": "code",
   "execution_count": 11,
   "metadata": {},
   "outputs": [
    {
     "data": {
      "text/plain": [
       "True"
      ]
     },
     "execution_count": 11,
     "metadata": {},
     "output_type": "execute_result"
    }
   ],
   "source": [
    "LampardGoals = 9\n",
    "LampardAssists = 16\n",
    "\n",
    "(LampardGoals > 10) or (LampardAssists >= 15)"
   ]
  },
  {
   "cell_type": "code",
   "execution_count": 12,
   "metadata": {},
   "outputs": [
    {
     "data": {
      "text/plain": [
       "False"
      ]
     },
     "execution_count": 12,
     "metadata": {},
     "output_type": "execute_result"
    }
   ],
   "source": [
    "CostaGoals = 5\n",
    "CostaAssists = 10\n",
    "CostaRedCards = 3\n",
    "\n",
    "(CostaGoals > 5) or (CostaAssists>=5) and (CostaRedCards<3)"
   ]
  },
  {
   "cell_type": "code",
   "execution_count": 13,
   "metadata": {
    "scrolled": true
   },
   "outputs": [
    {
     "name": "stdout",
     "output_type": "stream",
     "text": [
      "Done!\n"
     ]
    }
   ],
   "source": [
    "if 11>10:\n",
    "    print (\"Done!\")"
   ]
  },
  {
   "cell_type": "code",
   "execution_count": 14,
   "metadata": {
    "scrolled": true
   },
   "outputs": [
    {
     "name": "stdout",
     "output_type": "stream",
     "text": [
      "That was false!\n"
     ]
    }
   ],
   "source": [
    "if 9>10:\n",
    "    print(\"Done!\")\n",
    "else:\n",
    "    print(\"That was false!\")"
   ]
  },
  {
   "cell_type": "code",
   "execution_count": 15,
   "metadata": {
    "scrolled": true
   },
   "outputs": [
    {
     "name": "stdout",
     "output_type": "stream",
     "text": [
      "Salmeen join the attack!\n"
     ]
    }
   ],
   "source": [
    "BahrainScore=0\n",
    "OpponentScore=1\n",
    "\n",
    "if BahrainScore<OpponentScore:\n",
    "    print(\"Salmeen join the attack!\")\n",
    "else:\n",
    "    print(\"Get back!\")"
   ]
  },
  {
   "cell_type": "code",
   "execution_count": 16,
   "metadata": {},
   "outputs": [
    {
     "name": "stdout",
     "output_type": "stream",
     "text": [
      "Kane join the attack!\n"
     ]
    }
   ],
   "source": [
    "TottenhamScore=0\n",
    "OpponentScore=1\n",
    "\n",
    "if TottenhamScore<OpponentScore:\n",
    "    print(\"Kane join the attack!\")\n",
    "elif TottenhamScore==OpponentScore:\n",
    "    print(\"Give the ball to Kane!\")\n",
    "else:\n",
    "    print(\"Kane get back!\")"
   ]
  },
  {
   "cell_type": "code",
   "execution_count": 17,
   "metadata": {},
   "outputs": [],
   "source": [
    "TeamA=(\"Ronaldo\",\"Ronaldinho\",\"Roberto Carlos\")"
   ]
  },
  {
   "cell_type": "code",
   "execution_count": 18,
   "metadata": {
    "scrolled": true
   },
   "outputs": [
    {
     "name": "stdout",
     "output_type": "stream",
     "text": [
      "Welcome to the cage, Ronaldo\n",
      "Welcome to the cage, Ronaldinho\n",
      "Welcome to the cage, Roberto Carlos\n"
     ]
    }
   ],
   "source": [
    "print(\"Welcome to the cage, \" +TeamA[0])\n",
    "print(\"Welcome to the cage, \" +TeamA[1])\n",
    "print(\"Welcome to the cage, \" +TeamA[2])"
   ]
  },
  {
   "cell_type": "code",
   "execution_count": 20,
   "metadata": {
    "scrolled": true
   },
   "outputs": [
    {
     "name": "stdout",
     "output_type": "stream",
     "text": [
      "Welcome to the cage, Ronaldo\n",
      "Welcome to the cage, Ronaldinho\n",
      "Welcome to the cage, Roberto Carlos\n"
     ]
    }
   ],
   "source": [
    "for player in TeamA:\n",
    "    print(\"Welcome to the cage, \" +player)"
   ]
  },
  {
   "cell_type": "code",
   "execution_count": 21,
   "metadata": {
    "scrolled": true
   },
   "outputs": [
    {
     "name": "stdout",
     "output_type": "stream",
     "text": [
      "Welcome to the cage, Ronaldo\n",
      "Welcome to the cage, Ronaldinho\n",
      "Welcome to the cage, Roberto Carlos\n",
      "Welcome to the cage, Henry\n",
      "Welcome to the cage, Zidane\n",
      "Welcome to the cage, Pires\n"
     ]
    }
   ],
   "source": [
    "#Team 2, enter!\n",
    "TeamB = [\"Henry\",\"Zidane\",\"Pires\"]\n",
    "\n",
    "#A list of lists!\n",
    "Teams = [TeamA,TeamB]\n",
    "\n",
    "for team in Teams:\n",
    "    for player in team:\n",
    "        print(\"Welcome to the cage, \" + player)"
   ]
  },
  {
   "cell_type": "code",
   "execution_count": 22,
   "metadata": {},
   "outputs": [
    {
     "name": "stdout",
     "output_type": "stream",
     "text": [
      "45 played, it is half-time!\n"
     ]
    }
   ],
   "source": [
    "watchMinutes=0\n",
    "while watchMinutes<45:\n",
    "    watchMinutes +=1\n",
    "    \n",
    "print(str(watchMinutes)+\" played, it is half-time!\")"
   ]
  },
  {
   "cell_type": "code",
   "execution_count": 23,
   "metadata": {},
   "outputs": [
    {
     "name": "stdout",
     "output_type": "stream",
     "text": [
      "8\n"
     ]
    },
    {
     "data": {
      "text/plain": [
       "1"
      ]
     },
     "execution_count": 23,
     "metadata": {},
     "output_type": "execute_result"
    }
   ],
   "source": [
    "import random\n",
    "\n",
    "keepPossession = True\n",
    "passSkill = 75\n",
    "passesComplete = 8\n",
    "\n",
    "while keepPossession == True:\n",
    "    \n",
    "    if random.randint(0,100) > passSkill:\n",
    "        keepPossession = False\n",
    "    else:\n",
    "        passesComplete += 1\n",
    "        \n",
    "print(passesComplete)\n",
    "\n",
    "1"
   ]
  },
  {
   "cell_type": "code",
   "execution_count": 24,
   "metadata": {},
   "outputs": [
    {
     "data": {
      "text/plain": [
       "array([0, 2, 4, 6, 8])"
      ]
     },
     "execution_count": 24,
     "metadata": {},
     "output_type": "execute_result"
    }
   ],
   "source": [
    "import pandas as pd\n",
    "import numpy as np\n",
    "\n",
    "np.arange(0,10,2)"
   ]
  },
  {
   "cell_type": "code",
   "execution_count": 25,
   "metadata": {},
   "outputs": [
    {
     "name": "stdout",
     "output_type": "stream",
     "text": [
      "3.141592653589793\n"
     ]
    }
   ],
   "source": [
    "import math\n",
    "\n",
    "print(math.pi)"
   ]
  },
  {
   "cell_type": "code",
   "execution_count": 26,
   "metadata": {
    "scrolled": true
   },
   "outputs": [
    {
     "data": {
      "text/plain": [
       "4"
      ]
     },
     "execution_count": 26,
     "metadata": {},
     "output_type": "execute_result"
    }
   ],
   "source": [
    "def doubleMe(number):\n",
    "    return number*2\n",
    "\n",
    "doubleMe(2)"
   ]
  },
  {
   "cell_type": "code",
   "execution_count": 27,
   "metadata": {},
   "outputs": [
    {
     "data": {
      "text/plain": [
       "'Lampard plays a pass. The pass is unsuccessful'"
      ]
     },
     "execution_count": 27,
     "metadata": {},
     "output_type": "execute_result"
    }
   ],
   "source": [
    "def newTweet (player, action, success):\n",
    "    tweet = player + \" plays a \" + action + \".\"\n",
    "    if (success):\n",
    "        if action == \"pass\":\n",
    "            tweet += \" The team keep possession\"\n",
    "        elif action == \"shot\":\n",
    "            tweet += \" GOOOOAALLLLLLL\"\n",
    "    else:\n",
    "        if action == \"pass\":\n",
    "            tweet += \" The pass is unsuccessful\"\n",
    "        elif action == \"shot\":\n",
    "            tweet += \" No goal this time!\"\n",
    "            \n",
    "    return tweet\n",
    "\n",
    "newTweet (\"Lampard\", \"pass\", False)"
   ]
  },
  {
   "cell_type": "code",
   "execution_count": null,
   "metadata": {},
   "outputs": [],
   "source": [
    "import random"
   ]
  },
  {
   "cell_type": "code",
   "execution_count": 28,
   "metadata": {
    "scrolled": true
   },
   "outputs": [
    {
     "data": {
      "text/plain": [
       "0.6208134275093167"
      ]
     },
     "execution_count": 28,
     "metadata": {},
     "output_type": "execute_result"
    }
   ],
   "source": [
    "random.random()"
   ]
  },
  {
   "cell_type": "code",
   "execution_count": 29,
   "metadata": {},
   "outputs": [
    {
     "data": {
      "text/plain": [
       "25"
      ]
     },
     "execution_count": 29,
     "metadata": {},
     "output_type": "execute_result"
    }
   ],
   "source": [
    "int(random.random() *100)"
   ]
  },
  {
   "cell_type": "code",
   "execution_count": 30,
   "metadata": {},
   "outputs": [
    {
     "data": {
      "text/plain": [
       "2"
      ]
     },
     "execution_count": 30,
     "metadata": {},
     "output_type": "execute_result"
    }
   ],
   "source": [
    "random.randint(1,6)"
   ]
  },
  {
   "cell_type": "code",
   "execution_count": 31,
   "metadata": {},
   "outputs": [],
   "source": [
    "HomexG = [0.21, 0.66, 0.1, 0.14, 0.01]\n",
    "AwayxG = [0.04, 0.06, 0.01, 0.04, 0.06, 0.12, 0.01, 0.06]"
   ]
  },
  {
   "cell_type": "code",
   "execution_count": 32,
   "metadata": {
    "scrolled": true
   },
   "outputs": [
    {
     "name": "stdout",
     "output_type": "stream",
     "text": [
      "Missed!\n"
     ]
    }
   ],
   "source": [
    "if random.random()<=0.21:\n",
    "    print(\"GOAL!\")\n",
    "else:\n",
    "    print(\"Missed!\")"
   ]
  },
  {
   "cell_type": "code",
   "execution_count": 34,
   "metadata": {},
   "outputs": [
    {
     "name": "stdout",
     "output_type": "stream",
     "text": [
      "2149\n"
     ]
    }
   ],
   "source": [
    "Goals = 0\n",
    "\n",
    "for i in range(0,10000):\n",
    "    if random.random()<=0.21:\n",
    "        Goals +=1\n",
    "        \n",
    "print(Goals)"
   ]
  },
  {
   "cell_type": "code",
   "execution_count": 35,
   "metadata": {},
   "outputs": [],
   "source": [
    "def calculateWinner (home, away):\n",
    "    #Our match starts at 0-0\n",
    "    HomeGoals = 0\n",
    "    AwayGoals = 0\n",
    "    \n",
    "    #We have a function within our function\n",
    "    #This one runs the '.random()' test above for a list \n",
    "    def testShots(shots):\n",
    "        \n",
    "        #Start goal count at 0\n",
    "        Goals = 0\n",
    "        \n",
    "        #For each shot, if it goes in, add a goal\n",
    "        for shot in shots:\n",
    "            if random.random()<=shot:\n",
    "                Goals += 1\n",
    "                \n",
    "        #Finally, return the number of goals\n",
    "        return Goals\n",
    "    \n",
    "    #Run the above formula for home and away lists\n",
    "    HomeGoals = testShots(home)\n",
    "    AwayGoals = testShots(away)\n",
    "    \n",
    "    #Return the score\n",
    "    if HomeGoals > AwayGoals:\n",
    "        print(\"Home Wins! {} - {}\".format(HomeGoals, AwayGoals))\n",
    "    elif AwayGoals > HomeGoals:\n",
    "        print(\"Away Wins! {} - {}\".format(HomeGoals, AwayGoals))\n",
    "    else:\n",
    "        print(\"Share of the points! {} - {}\".format(HomeGoals, AwayGoals))"
   ]
  },
  {
   "cell_type": "code",
   "execution_count": 36,
   "metadata": {
    "scrolled": true
   },
   "outputs": [
    {
     "name": "stdout",
     "output_type": "stream",
     "text": [
      "Home Wins! 1 - 0\n"
     ]
    }
   ],
   "source": [
    "calculateWinner(HomexG, AwayxG)"
   ]
  },
  {
   "cell_type": "code",
   "execution_count": 38,
   "metadata": {},
   "outputs": [],
   "source": [
    "def calculateWinner(home, away):\n",
    "    HomeGoals = 0\n",
    "    AwayGoals = 0\n",
    "    \n",
    "    def testShots(shots):\n",
    "        Goals = 0\n",
    "        \n",
    "        for shot in shots:\n",
    "            if random.random()<= shot:\n",
    "                Goals +=1\n",
    "        return Goals\n",
    "    \n",
    "    HomeGoals = testShots(home)\n",
    "    AwayGoals = testShots(away)\n",
    "    \n",
    "    #This is all that changes from above\n",
    "    #We now pass a simple string, rather than ask for a printout.\n",
    "    if HomeGoals>AwayGoals:\n",
    "        return(\"home\")\n",
    "    elif AwayGoals>HomeGoals:\n",
    "        return(\"away\")\n",
    "    else:\n",
    "        return(\"draw\")"
   ]
  },
  {
   "cell_type": "code",
   "execution_count": 39,
   "metadata": {},
   "outputs": [],
   "source": [
    "#Run xG calculator 10000 times to test winner %\n",
    "def calculateChance(team1, team2):\n",
    "    home = 0;\n",
    "    away = 0;\n",
    "    draw = 0;\n",
    "    \n",
    "    for i in range(0,10000):\n",
    "        matchWinner = calculateWinner(team1,team2)\n",
    "        if matchWinner == \"home\":\n",
    "            home +=1\n",
    "        elif matchWinner == \"away\":\n",
    "            away +=1\n",
    "        else:\n",
    "            draw +=1\n",
    "    \n",
    "    home = home/100\n",
    "    away = away/100\n",
    "    draw = draw/100\n",
    "    \n",
    "    print(\"Over 10000 games, home wins {}%, away wins {}% and there is a draw in {}% of games.\".format(home, away, draw))"
   ]
  },
  {
   "cell_type": "code",
   "execution_count": 40,
   "metadata": {
    "scrolled": true
   },
   "outputs": [
    {
     "name": "stdout",
     "output_type": "stream",
     "text": [
      "Over 10000 games, home wins 59.32%, away wins 9.9% and there is a draw in 30.78% of games.\n"
     ]
    }
   ],
   "source": [
    "calculateChance(HomexG, AwayxG)"
   ]
  },
  {
   "cell_type": "code",
   "execution_count": 41,
   "metadata": {
    "scrolled": true
   },
   "outputs": [
    {
     "name": "stdout",
     "output_type": "stream",
     "text": [
      "Over 10000 games, home wins 30.46%, away wins 23.81% and there is a draw in 45.73% of games.\n"
     ]
    }
   ],
   "source": [
    "HomexG=[0.5]\n",
    "AwayxG=[0.05,0.05,0.05,0.05,0.05,0.05,0.05,0.05,0.05,0.05]\n",
    "calculateChance(HomexG, AwayxG)"
   ]
  }
 ],
 "metadata": {
  "kernelspec": {
   "display_name": "Python 3",
   "language": "python",
   "name": "python3"
  },
  "language_info": {
   "codemirror_mode": {
    "name": "ipython",
    "version": 3
   },
   "file_extension": ".py",
   "mimetype": "text/x-python",
   "name": "python",
   "nbconvert_exporter": "python",
   "pygments_lexer": "ipython3",
   "version": "3.7.6"
  }
 },
 "nbformat": 4,
 "nbformat_minor": 4
}
