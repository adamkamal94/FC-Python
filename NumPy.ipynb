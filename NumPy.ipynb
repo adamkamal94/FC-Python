{
 "cells": [
  {
   "cell_type": "code",
   "execution_count": 1,
   "metadata": {},
   "outputs": [],
   "source": [
    "import numpy as np"
   ]
  },
  {
   "cell_type": "code",
   "execution_count": 3,
   "metadata": {},
   "outputs": [
    {
     "data": {
      "text/plain": [
       "array([ 0,  1,  2,  3,  4,  5,  6,  7,  8,  9, 10, 11])"
      ]
     },
     "execution_count": 3,
     "metadata": {},
     "output_type": "execute_result"
    }
   ],
   "source": [
    "#With \"arange\", we can create arrays just list we created lists with 'range'\n",
    "#This gives us an array ranging from the numbers in the arguements\n",
    "\n",
    "np.arange(0,12)"
   ]
  },
  {
   "cell_type": "code",
   "execution_count": 4,
   "metadata": {
    "scrolled": true
   },
   "outputs": [
    {
     "data": {
      "text/plain": [
       "array([[0., 0., 0., 0., 0., 0., 0., 0., 0., 0., 0.],\n",
       "       [0., 0., 0., 0., 0., 0., 0., 0., 0., 0., 0.],\n",
       "       [0., 0., 0., 0., 0., 0., 0., 0., 0., 0., 0.]])"
      ]
     },
     "execution_count": 4,
     "metadata": {},
     "output_type": "execute_result"
    }
   ],
   "source": [
    "#Want a blank array? Create it full of zeros with 'zeros'\n",
    "#The argument within it creates the shape of a 2d or 3d array\n",
    "\n",
    "np.zeros((3,11))"
   ]
  },
  {
   "cell_type": "code",
   "execution_count": 5,
   "metadata": {
    "scrolled": true
   },
   "outputs": [
    {
     "data": {
      "text/plain": [
       "array([[1., 1., 1., 1., 1., 1., 1., 1., 1., 1., 1.],\n",
       "       [1., 1., 1., 1., 1., 1., 1., 1., 1., 1., 1.],\n",
       "       [1., 1., 1., 1., 1., 1., 1., 1., 1., 1., 1.]])"
      ]
     },
     "execution_count": 5,
     "metadata": {},
     "output_type": "execute_result"
    }
   ],
   "source": [
    "#Hate zeros? Why not use 'ones'?!\n",
    "\n",
    "np.ones((3,11))"
   ]
  },
  {
   "cell_type": "code",
   "execution_count": 6,
   "metadata": {},
   "outputs": [
    {
     "name": "stdout",
     "output_type": "stream",
     "text": [
      "[[ 1.62997597 -0.91454173 -0.91492484]\n",
      " [-0.69647442 -0.18315125  0.38253632]\n",
      " [ 0.5957525  -0.93627279 -0.5834644 ]]\n",
      "[[93 11 91]\n",
      " [ 9 20 86]\n",
      " [ 6 96 73]]\n"
     ]
    }
   ],
   "source": [
    "#Creating dummy data or need a random number?\n",
    "#randint and randn are useful here\n",
    "\n",
    "#Creates random numbers around a standard distribution from 0\n",
    "#The arguement gives us the array's shape\n",
    "print(np.random.randn(3,3))\n",
    "\n",
    "#Creates random numbers between two numbers that we give it\n",
    "#The third arguement gives us the shape of the array\n",
    "print(np.random.randint(1,100, (3,3)))"
   ]
  },
  {
   "cell_type": "code",
   "execution_count": 2,
   "metadata": {
    "scrolled": false
   },
   "outputs": [
    {
     "name": "stdout",
     "output_type": "stream",
     "text": [
      "['Alonso' 'Rudiger' 'Tomori' 'James']\n",
      "[['Alonso' 'Rudiger' 'Tomori' 'James']\n",
      " ['184' '188' '191' '193']\n",
      " ['81' '85' '103' '99']]\n"
     ]
    }
   ],
   "source": [
    "#Three lists, one for player heights, one for player weights, one for names\n",
    "\n",
    "PlayerNames = [\"Alonso\", \"Rudiger\", \"Tomori\", \"James\"]\n",
    "PlayerHeights = [184, 188, 191, 193]\n",
    "PlayerWeights = [81, 85, 103, 99]\n",
    "\n",
    "#Create an array of names\n",
    "\n",
    "print(np.array(PlayerNames))\n",
    "\n",
    "#Create a matrix of all three lists, start with a list of lists\n",
    "\n",
    "PlayerMatrix = [PlayerNames, PlayerHeights, PlayerWeights]\n",
    "print(np.array(PlayerMatrix))"
   ]
  },
  {
   "cell_type": "code",
   "execution_count": 11,
   "metadata": {},
   "outputs": [
    {
     "data": {
      "text/plain": [
       "193"
      ]
     },
     "execution_count": 11,
     "metadata": {},
     "output_type": "execute_result"
    }
   ],
   "source": [
    "#Three lists, one for player heights, one for player weights, one for names\n",
    "#Create an array with each list\n",
    "\n",
    "PlayerNames = [\"Alonso\", \"Rudiger\", \"Tomori\", \"James\"]\n",
    "PayerHeights = [184, 188, 191, 193]\n",
    "PlayersWeights = [81, 85, 103, 99]\n",
    "\n",
    "np.array(PlayerNames)\n",
    "PlayerHeights = np.array(PlayerHeights)\n",
    "np.array(PlayerWeights)\n",
    "\n",
    "#What is the largest height, .max()?\n",
    "\n",
    "PlayerHeights.max()"
   ]
  },
  {
   "cell_type": "code",
   "execution_count": 9,
   "metadata": {},
   "outputs": [
    {
     "data": {
      "text/plain": [
       "3"
      ]
     },
     "execution_count": 9,
     "metadata": {},
     "output_type": "execute_result"
    }
   ],
   "source": [
    "#What location is the max, .argmax()?\n",
    "\n",
    "PlayerHeights.argmax()"
   ]
  },
  {
   "cell_type": "code",
   "execution_count": 12,
   "metadata": {},
   "outputs": [
    {
     "data": {
      "text/plain": [
       "'James'"
      ]
     },
     "execution_count": 12,
     "metadata": {},
     "output_type": "execute_result"
    }
   ],
   "source": [
    "#Can I use this method to locate the player's name?\n",
    "#Instead of a number in the square bracks, I can just put this method\n",
    "\n",
    "PlayerNames[PlayerHeights.argmax()]"
   ]
  },
  {
   "cell_type": "code",
   "execution_count": 13,
   "metadata": {},
   "outputs": [
    {
     "data": {
      "text/plain": [
       "array([1930, 1934, 1938, 1950, 1954, 1958, 1962, 1966, 1970, 1974, 1978,\n",
       "       1982, 1986, 1990, 1994, 1998, 2002, 2006, 2010, 2014, 2018])"
      ]
     },
     "execution_count": 13,
     "metadata": {},
     "output_type": "execute_result"
    }
   ],
   "source": [
    "import numpy as np\n",
    "\n",
    "#Every 4 years since 1930\n",
    "WCYears = np.arange(1930,2020,4)\n",
    "\n",
    "#No World Cup in 1942 or 1946\n",
    "WCYears = np.delete(WCYears, (3,4))\n",
    "\n",
    "WCYears"
   ]
  },
  {
   "cell_type": "code",
   "execution_count": 14,
   "metadata": {},
   "outputs": [
    {
     "data": {
      "text/plain": [
       "1938"
      ]
     },
     "execution_count": 14,
     "metadata": {},
     "output_type": "execute_result"
    }
   ],
   "source": [
    "#What year was the third world cup held?\n",
    "WCYears[2]"
   ]
  },
  {
   "cell_type": "code",
   "execution_count": 15,
   "metadata": {},
   "outputs": [
    {
     "data": {
      "text/plain": [
       "array([1950, 1954, 1958, 1962])"
      ]
     },
     "execution_count": 15,
     "metadata": {},
     "output_type": "execute_result"
    }
   ],
   "source": [
    "#Show me the 4 World Cup years following WW2\n",
    "WCYears [3:7]"
   ]
  },
  {
   "cell_type": "code",
   "execution_count": 16,
   "metadata": {
    "scrolled": true
   },
   "outputs": [
    {
     "data": {
      "text/plain": [
       "array([['2002', '2006', '2010', '2014', '2018'],\n",
       "       ['Japan/Korea', 'Germany', 'South Africa', 'Brazil', 'Russia'],\n",
       "       ['Brazil', 'Italy', 'Spain', 'Germany', 'France']], dtype='<U12')"
      ]
     },
     "execution_count": 16,
     "metadata": {},
     "output_type": "execute_result"
    }
   ],
   "source": [
    "#Create our 2d array\n",
    "WCYears = [2002,2006,2010,2014,2018]\n",
    "WCHosts = [\"Japan/Korea\",\"Germany\",\"South Africa\",\"Brazil\",\"Russia\"]\n",
    "WCWinners = [\"Brazil\",\"Italy\",\"Spain\",\"Germany\",\"France\"]\n",
    "\n",
    "WCArray = np.array((WCYears,WCHosts,WCWinners))\n",
    "WCArray"
   ]
  },
  {
   "cell_type": "code",
   "execution_count": 17,
   "metadata": {},
   "outputs": [
    {
     "data": {
      "text/plain": [
       "'South Africa'"
      ]
     },
     "execution_count": 17,
     "metadata": {},
     "output_type": "execute_result"
    }
   ],
   "source": [
    "#2010 is the third year, find the host in the second row\n",
    "WCArray[1,2]"
   ]
  },
  {
   "cell_type": "code",
   "execution_count": 18,
   "metadata": {},
   "outputs": [
    {
     "data": {
      "text/plain": [
       "'France'"
      ]
     },
     "execution_count": 18,
     "metadata": {},
     "output_type": "execute_result"
    }
   ],
   "source": [
    "#Find the winner of the last World Cup\n",
    "#Negative Selection!\n",
    "\n",
    "WCArray[2,-1]"
   ]
  },
  {
   "cell_type": "code",
   "execution_count": 19,
   "metadata": {},
   "outputs": [],
   "source": [
    "WCYears = np.array([2002,2006,2010,2014,2018])\n",
    "WCTopScorers = np.array([\"Ronaldo\",\"Klose\",\"Muller\",\"James Rodriguez\",\"Kane\"])\n",
    "WCGoals = np.array([8,5,5,6,6])"
   ]
  },
  {
   "cell_type": "code",
   "execution_count": 20,
   "metadata": {},
   "outputs": [
    {
     "data": {
      "text/plain": [
       "array([ True, False, False,  True,  True])"
      ]
     },
     "execution_count": 20,
     "metadata": {},
     "output_type": "execute_result"
    }
   ],
   "source": [
    "#Where does the top scorer score more than 5 goals?\n",
    "WCGoals > 5"
   ]
  },
  {
   "cell_type": "code",
   "execution_count": 21,
   "metadata": {},
   "outputs": [
    {
     "data": {
      "text/plain": [
       "array(['Ronaldo', 'James Rodriguez', 'Kane'], dtype='<U15')"
      ]
     },
     "execution_count": 21,
     "metadata": {},
     "output_type": "execute_result"
    }
   ],
   "source": [
    "#Not particularly useful, but we can use bracket selection with this!\n",
    "\n",
    "WCTopScorers[(WCGoals>5)]"
   ]
  },
  {
   "cell_type": "code",
   "execution_count": 22,
   "metadata": {
    "scrolled": true
   },
   "outputs": [
    {
     "data": {
      "text/plain": [
       "array([['2002', '2006', '2010', '2014', '2018'],\n",
       "       ['Ronaldo', 'Klose', 'Muller', 'James Rodriguez', 'Kane'],\n",
       "       ['8', '5', '5', '6', '6']], dtype='<U15')"
      ]
     },
     "execution_count": 22,
     "metadata": {},
     "output_type": "execute_result"
    }
   ],
   "source": [
    "WCYears = [2002,2006,2010,2014,2018]\n",
    "WCTopScorers = [\"Ronaldo\",\"Klose\",\"Muller\",\"James Rodriguez\",\"Kane\"]\n",
    "WCGoals = [8,5,5,6,6]\n",
    "\n",
    "WCTopArray = np.array((WCYears,WCTopScorers,WCGoals))\n",
    "WCTopArray"
   ]
  },
  {
   "cell_type": "code",
   "execution_count": 23,
   "metadata": {},
   "outputs": [
    {
     "data": {
      "text/plain": [
       "'Muller'"
      ]
     },
     "execution_count": 23,
     "metadata": {},
     "output_type": "execute_result"
    }
   ],
   "source": [
    "WCTopArray [1,2]"
   ]
  },
  {
   "cell_type": "code",
   "execution_count": 24,
   "metadata": {
    "scrolled": true
   },
   "outputs": [
    {
     "data": {
      "text/plain": [
       "{'Name': 'Lucasinho', 'Number': 8, 'Long Sleeves': True}"
      ]
     },
     "execution_count": 24,
     "metadata": {},
     "output_type": "execute_result"
    }
   ],
   "source": [
    "PlayerOne = {\"Name\":\"Lucasinho\",\n",
    "\"Number\":8,\n",
    "\"Long Sleeves\":True}\n",
    "\n",
    "PlayerOne"
   ]
  },
  {
   "cell_type": "code",
   "execution_count": 25,
   "metadata": {},
   "outputs": [
    {
     "data": {
      "text/plain": [
       "8"
      ]
     },
     "execution_count": 25,
     "metadata": {},
     "output_type": "execute_result"
    }
   ],
   "source": [
    "PlayerOne[\"Number\"]"
   ]
  },
  {
   "cell_type": "code",
   "execution_count": 26,
   "metadata": {},
   "outputs": [
    {
     "data": {
      "text/plain": [
       "{'Name': 'Lucasinho', 'Number': 8, 'Long Sleeves': False, 'Size': 'Medium'}"
      ]
     },
     "execution_count": 26,
     "metadata": {},
     "output_type": "execute_result"
    }
   ],
   "source": [
    "PlayerOne[\"Long Sleeves\"] = False\n",
    "PlayerOne[\"Size\"] = \"Medium\"\n",
    "\n",
    "PlayerOne"
   ]
  },
  {
   "cell_type": "code",
   "execution_count": 27,
   "metadata": {},
   "outputs": [
    {
     "data": {
      "text/plain": [
       "{'Name': 'Lucasinho', 'Number': 8, 'Long Sleeves': False}"
      ]
     },
     "execution_count": 27,
     "metadata": {},
     "output_type": "execute_result"
    }
   ],
   "source": [
    "del PlayerOne[\"Size\"]\n",
    "\n",
    "PlayerOne"
   ]
  },
  {
   "cell_type": "code",
   "execution_count": 28,
   "metadata": {},
   "outputs": [
    {
     "data": {
      "text/plain": [
       "{}"
      ]
     },
     "execution_count": 28,
     "metadata": {},
     "output_type": "execute_result"
    }
   ],
   "source": [
    "PlayerOne.clear()\n",
    "\n",
    "PlayerOne"
   ]
  },
  {
   "cell_type": "code",
   "execution_count": 29,
   "metadata": {},
   "outputs": [
    {
     "name": "stdout",
     "output_type": "stream",
     "text": [
      "[0, 0, 3, 2, 1, 5, 3, 1, 2]\n",
      "[2, 0, 2, 2, 3, 2, 3, 2, 4]\n"
     ]
    }
   ],
   "source": [
    "GF = [0,0,3,2,1,5,3,1,2]\n",
    "GA = [2,0,2,2,3,2,3,2,4]\n",
    "\n",
    "print(GF)\n",
    "print(GA)"
   ]
  },
  {
   "cell_type": "code",
   "execution_count": 30,
   "metadata": {
    "scrolled": true
   },
   "outputs": [
    {
     "name": "stdout",
     "output_type": "stream",
     "text": [
      "0\n",
      "2\n"
     ]
    }
   ],
   "source": [
    "print(GF[0])\n",
    "print(GA[0])"
   ]
  },
  {
   "cell_type": "code",
   "execution_count": 31,
   "metadata": {},
   "outputs": [
    {
     "data": {
      "text/plain": [
       "-2"
      ]
     },
     "execution_count": 31,
     "metadata": {},
     "output_type": "execute_result"
    }
   ],
   "source": [
    "GF[0] - GA[0]"
   ]
  },
  {
   "cell_type": "code",
   "execution_count": 32,
   "metadata": {
    "scrolled": true
   },
   "outputs": [
    {
     "name": "stdout",
     "output_type": "stream",
     "text": [
      "9\n",
      "-3\n"
     ]
    }
   ],
   "source": [
    "#Define variables for points and goal difference\n",
    "#Set goals for and against\n",
    "\n",
    "P = 0\n",
    "GD = 0\n",
    "GF = [0,0,3,2,1,5,3,1,2]\n",
    "GA = [2,0,2,2,3,2,3,2,4]\n",
    "\n",
    "#We have 9 games, so we iterate with a range of 9 in a for loop \n",
    "for i in range(9):\n",
    "    #If we score more, give us 3 points and add the goal difference\n",
    "    if GF[i] > GA[i]:\n",
    "        P += 3\n",
    "        GD += (GF[i] - GA[i])\n",
    "    #If we draw, give us a point. Goal difference will stay the same.\n",
    "    elif GF[i] == GA[i]:\n",
    "        P += 1\n",
    "    #If we lose, we get no points, but update the goal difference\n",
    "    else:\n",
    "        GD += (GF[i] - GA[i])\n",
    "        \n",
    "print(P)\n",
    "print(GD)"
   ]
  },
  {
   "cell_type": "code",
   "execution_count": 33,
   "metadata": {},
   "outputs": [
    {
     "data": {
      "text/plain": [
       "[0, 1, 2, 3, 4, 5, 6, 7, 8, 9]"
      ]
     },
     "execution_count": 33,
     "metadata": {},
     "output_type": "execute_result"
    }
   ],
   "source": [
    "#One argument in range()\n",
    "#Give me the list of 10 numbers, starting at 0\n",
    "list (range(10))"
   ]
  },
  {
   "cell_type": "code",
   "execution_count": 34,
   "metadata": {},
   "outputs": [
    {
     "data": {
      "text/plain": [
       "[5, 6, 7, 8, 9]"
      ]
     },
     "execution_count": 34,
     "metadata": {},
     "output_type": "execute_result"
    }
   ],
   "source": [
    "#Two arguements in range()\n",
    "#Give me all numbers between these two\n",
    "list(range(5,10))"
   ]
  },
  {
   "cell_type": "code",
   "execution_count": 35,
   "metadata": {},
   "outputs": [
    {
     "data": {
      "text/plain": [
       "[0, 2, 4, 6, 8]"
      ]
     },
     "execution_count": 35,
     "metadata": {},
     "output_type": "execute_result"
    }
   ],
   "source": [
    "#Three arguements in range()\n",
    "#Give me all numbers between the first two, in steps of the third number\n",
    "list(range(0,10,2))"
   ]
  },
  {
   "cell_type": "code",
   "execution_count": 36,
   "metadata": {},
   "outputs": [
    {
     "name": "stdout",
     "output_type": "stream",
     "text": [
      "Lampard\n",
      "['Cole', 'Cech', 'Lampard']\n"
     ]
    }
   ],
   "source": [
    "Players = [\"Terry\",\"Cole\",\"Cech\",\"Lampard\",\"Drogba\"]\n",
    "\n",
    "#Select the 4th player - remember that the count starts at 0!\n",
    "print(Players[3])\n",
    "\n",
    "#Select the middle 3 players\n",
    "print(Players[1:4])"
   ]
  },
  {
   "cell_type": "code",
   "execution_count": 37,
   "metadata": {
    "scrolled": true
   },
   "outputs": [
    {
     "name": "stdout",
     "output_type": "stream",
     "text": [
      "[0, 0, 3, 2, 1, 5, 3, 1, 2, 3]\n",
      "[2, 0, 2, 2, 3, 2, 3, 2, 4, 1]\n"
     ]
    }
   ],
   "source": [
    "GF = [0,0,3,2,1,5,3,1,2]\n",
    "GA = [2,0,2,2,3,2,3,2,4]\n",
    "\n",
    "#Let's add a new score to our goals for and goals against lists\n",
    "#The append() method will help us here\n",
    "\n",
    "GF.append(3)\n",
    "GA.append(1)\n",
    "\n",
    "#Show the scores, 3-1 should be the final column\n",
    "print(GF)\n",
    "print(GA)"
   ]
  },
  {
   "cell_type": "code",
   "execution_count": 38,
   "metadata": {},
   "outputs": [
    {
     "name": "stdout",
     "output_type": "stream",
     "text": [
      "[3, 2, 1, 3, 5]\n",
      "[1, 4, 2, 3, 2]\n"
     ]
    }
   ],
   "source": [
    "GF = [0, 0, 3, 2, 1, 5, 3, 1, 2, 3]\n",
    "GA =[2, 0, 2, 2, 3, 2, 3, 2, 4, 1]\n",
    "\n",
    "#I want to reverse the scores, to see the 5 most recent ones\n",
    "#Reverse() will make this light work\n",
    "\n",
    "GF.reverse()\n",
    "GA.reverse()\n",
    "print(GF[0:5])\n",
    "print(GA[0:5])"
   ]
  }
 ],
 "metadata": {
  "kernelspec": {
   "display_name": "Python 3",
   "language": "python",
   "name": "python3"
  },
  "language_info": {
   "codemirror_mode": {
    "name": "ipython",
    "version": 3
   },
   "file_extension": ".py",
   "mimetype": "text/x-python",
   "name": "python",
   "nbconvert_exporter": "python",
   "pygments_lexer": "ipython3",
   "version": "3.7.6"
  }
 },
 "nbformat": 4,
 "nbformat_minor": 4
}
